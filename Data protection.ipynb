{
 "cells": [
  {
   "cell_type": "markdown",
   "metadata": {},
   "source": [
    "# Защита персональных данных клиентов"
   ]
  },
  {
   "cell_type": "markdown",
   "metadata": {},
   "source": [
    "Вам нужно защитить данные клиентов страховой компании «Хоть потоп». Разработайте такой метод преобразования данных, чтобы по ним было сложно восстановить персональную информацию. Обоснуйте корректность его работы.\n",
    "\n",
    "Нужно защитить данные, чтобы при преобразовании качество моделей машинного обучения не ухудшилось. Подбирать наилучшую модель не требуется."
   ]
  },
  {
   "cell_type": "markdown",
   "metadata": {},
   "source": [
    "## Загрузка данных"
   ]
  },
  {
   "cell_type": "code",
   "execution_count": 1,
   "metadata": {},
   "outputs": [],
   "source": [
    "import numpy as np \n",
    "import pandas as pd\n",
    "import seaborn as sns\n",
    "import matplotlib.pyplot as plt\n",
    "from sklearn.metrics import r2_score"
   ]
  },
  {
   "cell_type": "code",
   "execution_count": 2,
   "metadata": {},
   "outputs": [],
   "source": [
    "df = pd.read_csv('/datasets/insurance.csv') "
   ]
  },
  {
   "cell_type": "code",
   "execution_count": 3,
   "metadata": {},
   "outputs": [
    {
     "name": "stdout",
     "output_type": "stream",
     "text": [
      "<class 'pandas.core.frame.DataFrame'>\n",
      "RangeIndex: 5000 entries, 0 to 4999\n",
      "Data columns (total 5 columns):\n",
      " #   Column             Non-Null Count  Dtype  \n",
      "---  ------             --------------  -----  \n",
      " 0   Пол                5000 non-null   int64  \n",
      " 1   Возраст            5000 non-null   float64\n",
      " 2   Зарплата           5000 non-null   float64\n",
      " 3   Члены семьи        5000 non-null   int64  \n",
      " 4   Страховые выплаты  5000 non-null   int64  \n",
      "dtypes: float64(2), int64(3)\n",
      "memory usage: 195.4 KB\n"
     ]
    }
   ],
   "source": [
    "df.info() #вывожу информацию о таблице"
   ]
  },
  {
   "cell_type": "markdown",
   "metadata": {},
   "source": [
    "Пропусков в таблице нет"
   ]
  },
  {
   "cell_type": "code",
   "execution_count": 4,
   "metadata": {},
   "outputs": [
    {
     "data": {
      "text/html": [
       "<div>\n",
       "<style scoped>\n",
       "    .dataframe tbody tr th:only-of-type {\n",
       "        vertical-align: middle;\n",
       "    }\n",
       "\n",
       "    .dataframe tbody tr th {\n",
       "        vertical-align: top;\n",
       "    }\n",
       "\n",
       "    .dataframe thead th {\n",
       "        text-align: right;\n",
       "    }\n",
       "</style>\n",
       "<table border=\"1\" class=\"dataframe\">\n",
       "  <thead>\n",
       "    <tr style=\"text-align: right;\">\n",
       "      <th></th>\n",
       "      <th>Пол</th>\n",
       "      <th>Возраст</th>\n",
       "      <th>Зарплата</th>\n",
       "      <th>Члены семьи</th>\n",
       "      <th>Страховые выплаты</th>\n",
       "    </tr>\n",
       "  </thead>\n",
       "  <tbody>\n",
       "    <tr>\n",
       "      <th>0</th>\n",
       "      <td>1</td>\n",
       "      <td>41.0</td>\n",
       "      <td>49600.0</td>\n",
       "      <td>1</td>\n",
       "      <td>0</td>\n",
       "    </tr>\n",
       "    <tr>\n",
       "      <th>1</th>\n",
       "      <td>0</td>\n",
       "      <td>46.0</td>\n",
       "      <td>38000.0</td>\n",
       "      <td>1</td>\n",
       "      <td>1</td>\n",
       "    </tr>\n",
       "    <tr>\n",
       "      <th>2</th>\n",
       "      <td>0</td>\n",
       "      <td>29.0</td>\n",
       "      <td>21000.0</td>\n",
       "      <td>0</td>\n",
       "      <td>0</td>\n",
       "    </tr>\n",
       "    <tr>\n",
       "      <th>3</th>\n",
       "      <td>0</td>\n",
       "      <td>21.0</td>\n",
       "      <td>41700.0</td>\n",
       "      <td>2</td>\n",
       "      <td>0</td>\n",
       "    </tr>\n",
       "    <tr>\n",
       "      <th>4</th>\n",
       "      <td>1</td>\n",
       "      <td>28.0</td>\n",
       "      <td>26100.0</td>\n",
       "      <td>0</td>\n",
       "      <td>0</td>\n",
       "    </tr>\n",
       "  </tbody>\n",
       "</table>\n",
       "</div>"
      ],
      "text/plain": [
       "   Пол  Возраст  Зарплата  Члены семьи  Страховые выплаты\n",
       "0    1     41.0   49600.0            1                  0\n",
       "1    0     46.0   38000.0            1                  1\n",
       "2    0     29.0   21000.0            0                  0\n",
       "3    0     21.0   41700.0            2                  0\n",
       "4    1     28.0   26100.0            0                  0"
      ]
     },
     "execution_count": 4,
     "metadata": {},
     "output_type": "execute_result"
    }
   ],
   "source": [
    "df.head() # Просматриваю первые пять строк"
   ]
  },
  {
   "cell_type": "code",
   "execution_count": 5,
   "metadata": {},
   "outputs": [
    {
     "data": {
      "text/html": [
       "<div>\n",
       "<style scoped>\n",
       "    .dataframe tbody tr th:only-of-type {\n",
       "        vertical-align: middle;\n",
       "    }\n",
       "\n",
       "    .dataframe tbody tr th {\n",
       "        vertical-align: top;\n",
       "    }\n",
       "\n",
       "    .dataframe thead th {\n",
       "        text-align: right;\n",
       "    }\n",
       "</style>\n",
       "<table border=\"1\" class=\"dataframe\">\n",
       "  <thead>\n",
       "    <tr style=\"text-align: right;\">\n",
       "      <th></th>\n",
       "      <th>Пол</th>\n",
       "      <th>Возраст</th>\n",
       "      <th>Зарплата</th>\n",
       "      <th>Члены семьи</th>\n",
       "      <th>Страховые выплаты</th>\n",
       "    </tr>\n",
       "  </thead>\n",
       "  <tbody>\n",
       "    <tr>\n",
       "      <th>count</th>\n",
       "      <td>5000.000000</td>\n",
       "      <td>5000.000000</td>\n",
       "      <td>5000.000000</td>\n",
       "      <td>5000.000000</td>\n",
       "      <td>5000.000000</td>\n",
       "    </tr>\n",
       "    <tr>\n",
       "      <th>mean</th>\n",
       "      <td>0.499000</td>\n",
       "      <td>30.952800</td>\n",
       "      <td>39916.360000</td>\n",
       "      <td>1.194200</td>\n",
       "      <td>0.148000</td>\n",
       "    </tr>\n",
       "    <tr>\n",
       "      <th>std</th>\n",
       "      <td>0.500049</td>\n",
       "      <td>8.440807</td>\n",
       "      <td>9900.083569</td>\n",
       "      <td>1.091387</td>\n",
       "      <td>0.463183</td>\n",
       "    </tr>\n",
       "    <tr>\n",
       "      <th>min</th>\n",
       "      <td>0.000000</td>\n",
       "      <td>18.000000</td>\n",
       "      <td>5300.000000</td>\n",
       "      <td>0.000000</td>\n",
       "      <td>0.000000</td>\n",
       "    </tr>\n",
       "    <tr>\n",
       "      <th>25%</th>\n",
       "      <td>0.000000</td>\n",
       "      <td>24.000000</td>\n",
       "      <td>33300.000000</td>\n",
       "      <td>0.000000</td>\n",
       "      <td>0.000000</td>\n",
       "    </tr>\n",
       "    <tr>\n",
       "      <th>50%</th>\n",
       "      <td>0.000000</td>\n",
       "      <td>30.000000</td>\n",
       "      <td>40200.000000</td>\n",
       "      <td>1.000000</td>\n",
       "      <td>0.000000</td>\n",
       "    </tr>\n",
       "    <tr>\n",
       "      <th>75%</th>\n",
       "      <td>1.000000</td>\n",
       "      <td>37.000000</td>\n",
       "      <td>46600.000000</td>\n",
       "      <td>2.000000</td>\n",
       "      <td>0.000000</td>\n",
       "    </tr>\n",
       "    <tr>\n",
       "      <th>max</th>\n",
       "      <td>1.000000</td>\n",
       "      <td>65.000000</td>\n",
       "      <td>79000.000000</td>\n",
       "      <td>6.000000</td>\n",
       "      <td>5.000000</td>\n",
       "    </tr>\n",
       "  </tbody>\n",
       "</table>\n",
       "</div>"
      ],
      "text/plain": [
       "               Пол      Возраст      Зарплата  Члены семьи  Страховые выплаты\n",
       "count  5000.000000  5000.000000   5000.000000  5000.000000        5000.000000\n",
       "mean      0.499000    30.952800  39916.360000     1.194200           0.148000\n",
       "std       0.500049     8.440807   9900.083569     1.091387           0.463183\n",
       "min       0.000000    18.000000   5300.000000     0.000000           0.000000\n",
       "25%       0.000000    24.000000  33300.000000     0.000000           0.000000\n",
       "50%       0.000000    30.000000  40200.000000     1.000000           0.000000\n",
       "75%       1.000000    37.000000  46600.000000     2.000000           0.000000\n",
       "max       1.000000    65.000000  79000.000000     6.000000           5.000000"
      ]
     },
     "execution_count": 5,
     "metadata": {},
     "output_type": "execute_result"
    }
   ],
   "source": [
    "df.describe() # вывожу информацию о датасете"
   ]
  },
  {
   "cell_type": "code",
   "execution_count": 6,
   "metadata": {},
   "outputs": [
    {
     "data": {
      "text/plain": [
       "153"
      ]
     },
     "execution_count": 6,
     "metadata": {},
     "output_type": "execute_result"
    }
   ],
   "source": [
    "df.duplicated().sum() # проверяю количество дубликатов"
   ]
  },
  {
   "cell_type": "markdown",
   "metadata": {},
   "source": [
    "Поскольку дубликатов малое количество, наилучшим решением будет их удалить "
   ]
  },
  {
   "cell_type": "code",
   "execution_count": 7,
   "metadata": {},
   "outputs": [],
   "source": [
    "df.drop_duplicates(inplace = True)"
   ]
  },
  {
   "cell_type": "code",
   "execution_count": 8,
   "metadata": {},
   "outputs": [
    {
     "data": {
      "text/plain": [
       "0    0.501547\n",
       "1    0.498453\n",
       "Name: Пол, dtype: float64"
      ]
     },
     "execution_count": 8,
     "metadata": {},
     "output_type": "execute_result"
    }
   ],
   "source": [
    "df['Пол'].value_counts(normalize = True) # посмотрю на распределение полов "
   ]
  },
  {
   "cell_type": "code",
   "execution_count": 9,
   "metadata": {},
   "outputs": [
    {
     "data": {
      "image/png": "[encoded data removed]",
      "text/plain": [
       "<Figure size 864x720 with 2 Axes>"
      ]
     },
     "metadata": {
      "needs_background": "light"
     },
     "output_type": "display_data"
    }
   ],
   "source": [
    "fig = plt.figure(figsize=(12, 10))\n",
    "ax = sns.heatmap(df.corr(), linewidths=.5, annot = True)\n",
    "plt.show();"
   ]
  },
  {
   "cell_type": "markdown",
   "metadata": {},
   "source": [
    "**Вывод:**    \n",
    "Аномалий в датасете не выявленно.    \n",
    "Пол клиентов распределенем практически равномерно . Клиенты в возрасте от 18 до 65лет.     \n",
    "C максимальной зарплатой 79000 и медианной в 40200. Есть конечно и значения с зарплатой в 5300.    \n",
    "Максимальное количество членов семьи = 6     \n",
    "Страховые выплаты положительно коррелируют с возрастом    "
   ]
  },
  {
   "cell_type": "markdown",
   "metadata": {},
   "source": [
    "## Умножение матриц"
   ]
  },
  {
   "cell_type": "markdown",
   "metadata": {},
   "source": [
    "Обозначения:\n",
    "\n",
    "- $X$ — матрица признаков (нулевой столбец состоит из единиц)\n",
    "\n",
    "- $y$ — вектор целевого признака\n",
    "\n",
    "- $P$ — матрица, на которую умножаются признаки\n",
    "\n",
    "- $w$ — вектор весов линейной регрессии (нулевой элемент равен сдвигу)\n",
    "\n",
    "- $E$ — единичная матрица"
   ]
  },
  {
   "cell_type": "markdown",
   "metadata": {},
   "source": [
    "Предсказания:\n",
    "\n",
    "$$\n",
    "a = Xw\n",
    "$$\n",
    "\n",
    "Задача обучения:\n",
    "\n",
    "$$\n",
    "w = \\arg\\min_w MSE(Xw, y)\n",
    "$$\n",
    "\n",
    "Формула обучения:\n",
    "\n",
    "$$\n",
    "w = (X^T X)^{-1} X^T y\n",
    "$$"
   ]
  },
  {
   "cell_type": "markdown",
   "metadata": {},
   "source": [
    "**Ответ:** Качество линейной модели не поменяется. Из-за домножения признаков на обратимую матрицу, у нас поменяется вектор весов. Когда у нас предсказания останутся такими-же\n",
    "\n",
    "**Обоснование:** \n",
    "Возьмём формулу обучения. \n",
    "$w = (X^T X)^{-1} X^T y$\n",
    "\n",
    "мы домнажаем матрицу признаков $X$ на матрицу $P$ в следствии чего наше выражение принимает вид $X1 = X*P$\n",
    "\n",
    "$w1 = ((XP)^T  (XP))^{-1} (XP)^T y$\n",
    "\n",
    "Применяем свойство умножения матриц  $(AB)^T = B^T A^T$\n",
    "\n",
    "$w1 = (P^T X^T X P)^{-1} P^T X^T y$\n",
    "\n",
    "вытаскиваем квадратичные матрицы из под скобок\n",
    "\n",
    "$w1 = P^{-1} (X^T X)^{-1} (P^T)^{-1} P^T X^T y$\n",
    "\n",
    "обращаю внимание что $(P^T)^{-1} P^T = E $\n",
    "\n",
    "$w1 =  P^{-1} (X^T  X)^{-1} E X^T y$\n",
    "\n",
    "Вспоминая свойства единичной матрицы $EA = AE = A$\n",
    "\n",
    "$w1 =   P^{-1} (X^T  X)^{-1} X^T y = P^{-1} w$\n",
    "\n",
    "\n",
    "        \n",
    "        \n",
    "**Вывод:**  \n",
    "Напоминаю формулу наших предсказаний $a1 = X1w1$. \n",
    "Где  $X1 = X P$, а формула обучения приняла вид $w1 = P^{-1} * w$\n",
    "\n",
    "\n",
    "Подставляем всё это выходит $a1 = X P P^{-1}  w \\Leftrightarrow a1 = X E w \\Leftrightarrow a1 = Xw$. \n",
    "В следствии чего мы можем заявить, что $a1 = a$\n",
    "Что и требовалось доказать. У нас получатся те же самые предсказания "
   ]
  },
  {
   "cell_type": "markdown",
   "metadata": {},
   "source": [
    "## Алгоритм преобразования"
   ]
  },
  {
   "cell_type": "markdown",
   "metadata": {},
   "source": [
    "**Алгоритм**   \n",
    "Нам надо создать обратимую квадратную матрицу, размером равным количеству признаков. \n",
    "Проверкой на обратимость будет являться высчитвание детерминантна матрицы. Если он не будет равен нулю, то матрица обратимая.\n",
    "\n",
    "Далее мы умножаем матрицу признаков на созданную нами матрицу \n",
    "\n",
    "Обучаем модель линейной регресси на закодированной матрице и проверям качество обучения на метрике R2\n",
    "\n",
    "Так же алгоритм должен возвращать декодер. \n",
    "\n",
    "И мы должны обучить модель на неизменненных данных и проверить качество обучения на метрике R2\n",
    "\n",
    "На последнем этапе мы сравниваем метрики на зашифрованных данных и на не зашифрованных. Если качество обучения одинаковое, то наша теория подтвердилась "
   ]
  },
  {
   "cell_type": "markdown",
   "metadata": {},
   "source": [
    "**Обоснование**\n",
    "\n",
    "В соответствии с нашими доказательствами должна получиться такая же оценка. Самое время проверить теорию на практике"
   ]
  },
  {
   "cell_type": "markdown",
   "metadata": {},
   "source": [
    "## Проверка алгоритма"
   ]
  },
  {
   "cell_type": "code",
   "execution_count": 10,
   "metadata": {},
   "outputs": [],
   "source": [
    "class LinearRegression:\n",
    "    def fit(self, train_features, train_target):\n",
    "        X = np.concatenate((np.ones((train_features.shape[0], 1)), train_features), axis=1)\n",
    "        y = train_target\n",
    "        w = np.linalg.inv(X.T.dot(X)).dot(X.T).dot(y)\n",
    "        self.w = w[1:]\n",
    "        self.w0 = w[0]\n",
    "\n",
    "    def predict(self, test_features):\n",
    "        return test_features.dot(self.w) + self.w0"
   ]
  },
  {
   "cell_type": "markdown",
   "metadata": {},
   "source": [
    "Создаю функцию по перемножению матриц. \n",
    "Внутри функции сделал проверку на то получилось ли наша случайно сгенерированная матрица невырожденной. \n",
    "Ибо согласно теореме **Всякая невырожденная матрица имеет обратную**"
   ]
  },
  {
   "cell_type": "code",
   "execution_count": 11,
   "metadata": {},
   "outputs": [],
   "source": [
    "def cryptography(features):\n",
    "    x = np.random.normal(size = (features.shape[1], features.shape[1]))\n",
    "    while np.linalg.det(x) == 0:\n",
    "        x = np.random.normal(size = (features.shape[1], features.shape[1]))\n",
    "    new_features = features @ x\n",
    "    decoder =  np.linalg.inv(x)\n",
    "    return new_features, decoder"
   ]
  },
  {
   "cell_type": "code",
   "execution_count": 12,
   "metadata": {},
   "outputs": [],
   "source": [
    "features = df.drop('Страховые выплаты', axis = 1)  \n",
    "target = df['Страховые выплаты']"
   ]
  },
  {
   "cell_type": "code",
   "execution_count": 13,
   "metadata": {},
   "outputs": [],
   "source": [
    "features_cr, decoder = cryptography(features) #применяю функцию"
   ]
  },
  {
   "cell_type": "markdown",
   "metadata": {},
   "source": [
    "Посмотрим на наши признаки "
   ]
  },
  {
   "cell_type": "code",
   "execution_count": 14,
   "metadata": {},
   "outputs": [
    {
     "data": {
      "text/html": [
       "<div>\n",
       "<style scoped>\n",
       "    .dataframe tbody tr th:only-of-type {\n",
       "        vertical-align: middle;\n",
       "    }\n",
       "\n",
       "    .dataframe tbody tr th {\n",
       "        vertical-align: top;\n",
       "    }\n",
       "\n",
       "    .dataframe thead th {\n",
       "        text-align: right;\n",
       "    }\n",
       "</style>\n",
       "<table border=\"1\" class=\"dataframe\">\n",
       "  <thead>\n",
       "    <tr style=\"text-align: right;\">\n",
       "      <th></th>\n",
       "      <th>0</th>\n",
       "      <th>1</th>\n",
       "      <th>2</th>\n",
       "      <th>3</th>\n",
       "    </tr>\n",
       "  </thead>\n",
       "  <tbody>\n",
       "    <tr>\n",
       "      <th>0</th>\n",
       "      <td>-9197.024354</td>\n",
       "      <td>-25.253126</td>\n",
       "      <td>-58278.344818</td>\n",
       "      <td>-17655.336656</td>\n",
       "    </tr>\n",
       "    <tr>\n",
       "      <th>1</th>\n",
       "      <td>-7047.860477</td>\n",
       "      <td>-25.579943</td>\n",
       "      <td>-44657.891772</td>\n",
       "      <td>-13515.890561</td>\n",
       "    </tr>\n",
       "    <tr>\n",
       "      <th>2</th>\n",
       "      <td>-3895.067930</td>\n",
       "      <td>-16.018729</td>\n",
       "      <td>-24681.555105</td>\n",
       "      <td>-7467.063766</td>\n",
       "    </tr>\n",
       "    <tr>\n",
       "      <th>3</th>\n",
       "      <td>-7731.116347</td>\n",
       "      <td>-12.814233</td>\n",
       "      <td>-48989.271460</td>\n",
       "      <td>-14851.666029</td>\n",
       "    </tr>\n",
       "    <tr>\n",
       "      <th>4</th>\n",
       "      <td>-4840.076227</td>\n",
       "      <td>-17.422272</td>\n",
       "      <td>-30669.784700</td>\n",
       "      <td>-9286.441931</td>\n",
       "    </tr>\n",
       "  </tbody>\n",
       "</table>\n",
       "</div>"
      ],
      "text/plain": [
       "             0          1             2             3\n",
       "0 -9197.024354 -25.253126 -58278.344818 -17655.336656\n",
       "1 -7047.860477 -25.579943 -44657.891772 -13515.890561\n",
       "2 -3895.067930 -16.018729 -24681.555105  -7467.063766\n",
       "3 -7731.116347 -12.814233 -48989.271460 -14851.666029\n",
       "4 -4840.076227 -17.422272 -30669.784700  -9286.441931"
      ]
     },
     "metadata": {},
     "output_type": "display_data"
    },
    {
     "data": {
      "text/html": [
       "<div>\n",
       "<style scoped>\n",
       "    .dataframe tbody tr th:only-of-type {\n",
       "        vertical-align: middle;\n",
       "    }\n",
       "\n",
       "    .dataframe tbody tr th {\n",
       "        vertical-align: top;\n",
       "    }\n",
       "\n",
       "    .dataframe thead th {\n",
       "        text-align: right;\n",
       "    }\n",
       "</style>\n",
       "<table border=\"1\" class=\"dataframe\">\n",
       "  <thead>\n",
       "    <tr style=\"text-align: right;\">\n",
       "      <th></th>\n",
       "      <th>Пол</th>\n",
       "      <th>Возраст</th>\n",
       "      <th>Зарплата</th>\n",
       "      <th>Члены семьи</th>\n",
       "    </tr>\n",
       "  </thead>\n",
       "  <tbody>\n",
       "    <tr>\n",
       "      <th>0</th>\n",
       "      <td>1</td>\n",
       "      <td>41.0</td>\n",
       "      <td>49600.0</td>\n",
       "      <td>1</td>\n",
       "    </tr>\n",
       "    <tr>\n",
       "      <th>1</th>\n",
       "      <td>0</td>\n",
       "      <td>46.0</td>\n",
       "      <td>38000.0</td>\n",
       "      <td>1</td>\n",
       "    </tr>\n",
       "    <tr>\n",
       "      <th>2</th>\n",
       "      <td>0</td>\n",
       "      <td>29.0</td>\n",
       "      <td>21000.0</td>\n",
       "      <td>0</td>\n",
       "    </tr>\n",
       "    <tr>\n",
       "      <th>3</th>\n",
       "      <td>0</td>\n",
       "      <td>21.0</td>\n",
       "      <td>41700.0</td>\n",
       "      <td>2</td>\n",
       "    </tr>\n",
       "    <tr>\n",
       "      <th>4</th>\n",
       "      <td>1</td>\n",
       "      <td>28.0</td>\n",
       "      <td>26100.0</td>\n",
       "      <td>0</td>\n",
       "    </tr>\n",
       "  </tbody>\n",
       "</table>\n",
       "</div>"
      ],
      "text/plain": [
       "   Пол  Возраст  Зарплата  Члены семьи\n",
       "0    1     41.0   49600.0            1\n",
       "1    0     46.0   38000.0            1\n",
       "2    0     29.0   21000.0            0\n",
       "3    0     21.0   41700.0            2\n",
       "4    1     28.0   26100.0            0"
      ]
     },
     "execution_count": 14,
     "metadata": {},
     "output_type": "execute_result"
    }
   ],
   "source": [
    "display(features_cr.head())\n",
    "features.head()"
   ]
  },
  {
   "cell_type": "markdown",
   "metadata": {},
   "source": [
    "Так же проверим декодирование наших признаков "
   ]
  },
  {
   "cell_type": "code",
   "execution_count": 15,
   "metadata": {},
   "outputs": [
    {
     "data": {
      "text/html": [
       "<div>\n",
       "<style scoped>\n",
       "    .dataframe tbody tr th:only-of-type {\n",
       "        vertical-align: middle;\n",
       "    }\n",
       "\n",
       "    .dataframe tbody tr th {\n",
       "        vertical-align: top;\n",
       "    }\n",
       "\n",
       "    .dataframe thead th {\n",
       "        text-align: right;\n",
       "    }\n",
       "</style>\n",
       "<table border=\"1\" class=\"dataframe\">\n",
       "  <thead>\n",
       "    <tr style=\"text-align: right;\">\n",
       "      <th></th>\n",
       "      <th>0</th>\n",
       "      <th>1</th>\n",
       "      <th>2</th>\n",
       "      <th>3</th>\n",
       "    </tr>\n",
       "  </thead>\n",
       "  <tbody>\n",
       "    <tr>\n",
       "      <th>0</th>\n",
       "      <td>1.0</td>\n",
       "      <td>41.0</td>\n",
       "      <td>49600.0</td>\n",
       "      <td>1.0</td>\n",
       "    </tr>\n",
       "    <tr>\n",
       "      <th>1</th>\n",
       "      <td>-0.0</td>\n",
       "      <td>46.0</td>\n",
       "      <td>38000.0</td>\n",
       "      <td>1.0</td>\n",
       "    </tr>\n",
       "    <tr>\n",
       "      <th>2</th>\n",
       "      <td>-0.0</td>\n",
       "      <td>29.0</td>\n",
       "      <td>21000.0</td>\n",
       "      <td>-0.0</td>\n",
       "    </tr>\n",
       "    <tr>\n",
       "      <th>3</th>\n",
       "      <td>-0.0</td>\n",
       "      <td>21.0</td>\n",
       "      <td>41700.0</td>\n",
       "      <td>2.0</td>\n",
       "    </tr>\n",
       "    <tr>\n",
       "      <th>4</th>\n",
       "      <td>1.0</td>\n",
       "      <td>28.0</td>\n",
       "      <td>26100.0</td>\n",
       "      <td>-0.0</td>\n",
       "    </tr>\n",
       "  </tbody>\n",
       "</table>\n",
       "</div>"
      ],
      "text/plain": [
       "     0     1        2    3\n",
       "0  1.0  41.0  49600.0  1.0\n",
       "1 -0.0  46.0  38000.0  1.0\n",
       "2 -0.0  29.0  21000.0 -0.0\n",
       "3 -0.0  21.0  41700.0  2.0\n",
       "4  1.0  28.0  26100.0 -0.0"
      ]
     },
     "execution_count": 15,
     "metadata": {},
     "output_type": "execute_result"
    }
   ],
   "source": [
    "np.round(pd.DataFrame(features_cr @ decoder)).head()"
   ]
  },
  {
   "cell_type": "markdown",
   "metadata": {},
   "source": [
    "Обучаю модель на не изменненых признаках"
   ]
  },
  {
   "cell_type": "code",
   "execution_count": 16,
   "metadata": {},
   "outputs": [
    {
     "name": "stdout",
     "output_type": "stream",
     "text": [
      "0.4302010044852068\n"
     ]
    }
   ],
   "source": [
    "model = LinearRegression()\n",
    "model.fit(features, target)\n",
    "print(r2_score(target, model.predict(features)))"
   ]
  },
  {
   "cell_type": "markdown",
   "metadata": {},
   "source": [
    "Обучаю модель на признаках домножанных на матрицу"
   ]
  },
  {
   "cell_type": "code",
   "execution_count": 17,
   "metadata": {},
   "outputs": [
    {
     "name": "stdout",
     "output_type": "stream",
     "text": [
      "0.43020100448520215\n"
     ]
    }
   ],
   "source": [
    "model = LinearRegression()\n",
    "model.fit(features_cr, target)\n",
    "print(r2_score(target, model.predict(features_cr)))"
   ]
  },
  {
   "cell_type": "markdown",
   "metadata": {},
   "source": [
    "**Вывод**    \n",
    "Отличия в метриках начинаются на 10^-12. Можно сказать, что такие отличия незначительны и кодирование данных клиентов работает "
   ]
  },
  {
   "cell_type": "markdown",
   "metadata": {},
   "source": [
    "## Вывод"
   ]
  },
  {
   "cell_type": "markdown",
   "metadata": {},
   "source": [
    "В исходных данных аномалий не было выявленно.  Были обнаруженны явные дубликаты. В ходе обработки было принято решение их удалить.     \n",
    "Была построенна математическая теория зашифровывания личных данных клиентов.     \n",
    "Алгоритм шифрования заключался в домнажении матрицы признаков на обратимую квадратную матрицу.     \n",
    "В ходе практического опыта мы убедились в эффективности данного метода. Качество обучения не пострадало.    \n",
    "Так же данный метод включает возможность дешифровки. Наша функция возвращает декодер\n",
    "Для дешифровки надо умножить матрицу признаков на декодер. "
   ]
  }
 ],
 "metadata": {
  "ExecuteTimeLog": [
   {
    "duration": 1013,
    "start_time": "2022-07-29T19:33:59.189Z"
   },
   {
    "duration": 76,
    "start_time": "2022-07-29T19:34:10.124Z"
   },
   {
    "duration": 12,
    "start_time": "2022-07-29T19:34:16.388Z"
   },
   {
    "duration": 9,
    "start_time": "2022-07-29T19:34:25.025Z"
   },
   {
    "duration": 28,
    "start_time": "2022-07-29T19:35:05.375Z"
   },
   {
    "duration": 6,
    "start_time": "2022-07-29T19:35:16.392Z"
   },
   {
    "duration": 6,
    "start_time": "2022-07-29T19:36:02.857Z"
   },
   {
    "duration": 8,
    "start_time": "2022-07-29T19:36:14.454Z"
   },
   {
    "duration": 7,
    "start_time": "2022-07-29T19:36:22.689Z"
   },
   {
    "duration": 14,
    "start_time": "2022-07-29T19:36:33.219Z"
   },
   {
    "duration": 12,
    "start_time": "2022-07-29T19:36:49.606Z"
   },
   {
    "duration": 416,
    "start_time": "2022-07-31T03:39:53.524Z"
   },
   {
    "duration": 94,
    "start_time": "2022-07-31T03:39:53.953Z"
   },
   {
    "duration": 15,
    "start_time": "2022-07-31T03:39:54.669Z"
   },
   {
    "duration": 23,
    "start_time": "2022-07-31T03:39:55.424Z"
   },
   {
    "duration": 6,
    "start_time": "2022-07-31T03:39:57.343Z"
   },
   {
    "duration": 6,
    "start_time": "2022-07-31T03:39:57.844Z"
   },
   {
    "duration": 4,
    "start_time": "2022-07-31T03:40:29.354Z"
   },
   {
    "duration": 4,
    "start_time": "2022-07-31T03:40:31.859Z"
   },
   {
    "duration": 3,
    "start_time": "2022-07-31T03:40:35.469Z"
   },
   {
    "duration": 5,
    "start_time": "2022-07-31T03:41:03.044Z"
   },
   {
    "duration": 7,
    "start_time": "2022-07-31T03:41:07.594Z"
   },
   {
    "duration": 11,
    "start_time": "2022-07-31T03:41:12.804Z"
   },
   {
    "duration": 5,
    "start_time": "2022-07-31T03:43:07.859Z"
   },
   {
    "duration": 356,
    "start_time": "2022-08-11T02:04:19.440Z"
   },
   {
    "duration": 79,
    "start_time": "2022-08-11T02:04:21.751Z"
   },
   {
    "duration": 15,
    "start_time": "2022-08-11T02:04:21.990Z"
   },
   {
    "duration": 21,
    "start_time": "2022-08-11T02:04:22.690Z"
   },
   {
    "duration": 37,
    "start_time": "2022-08-11T02:04:34.753Z"
   },
   {
    "duration": 4,
    "start_time": "2022-08-11T02:04:46.147Z"
   },
   {
    "duration": 47,
    "start_time": "2022-08-11T02:04:55.378Z"
   },
   {
    "duration": 3,
    "start_time": "2022-08-11T02:04:58.053Z"
   },
   {
    "duration": 7,
    "start_time": "2022-08-11T02:05:25.873Z"
   },
   {
    "duration": 9,
    "start_time": "2022-08-11T02:05:33.812Z"
   },
   {
    "duration": 7,
    "start_time": "2022-08-11T02:05:38.223Z"
   },
   {
    "duration": 7,
    "start_time": "2022-08-11T02:05:56.703Z"
   },
   {
    "duration": 10,
    "start_time": "2022-08-11T02:06:09.239Z"
   },
   {
    "duration": 583,
    "start_time": "2022-08-11T02:06:17.159Z"
   },
   {
    "duration": 6,
    "start_time": "2022-08-11T02:06:34.679Z"
   },
   {
    "duration": 6,
    "start_time": "2022-08-11T02:06:44.658Z"
   },
   {
    "duration": 12,
    "start_time": "2022-08-11T02:06:48.949Z"
   },
   {
    "duration": 63,
    "start_time": "2022-08-11T02:19:24.459Z"
   },
   {
    "duration": 3,
    "start_time": "2022-08-11T02:19:43.323Z"
   },
   {
    "duration": 3,
    "start_time": "2022-08-11T02:20:01.163Z"
   },
   {
    "duration": 5,
    "start_time": "2022-08-11T02:20:13.013Z"
   },
   {
    "duration": 5,
    "start_time": "2022-08-11T02:20:20.433Z"
   },
   {
    "duration": 4,
    "start_time": "2022-08-11T02:20:27.033Z"
   },
   {
    "duration": 8,
    "start_time": "2022-08-11T03:47:09.484Z"
   },
   {
    "duration": 5,
    "start_time": "2022-08-11T03:47:13.334Z"
   },
   {
    "duration": 4,
    "start_time": "2022-08-11T03:47:17.564Z"
   },
   {
    "duration": 3,
    "start_time": "2022-08-11T03:51:10.829Z"
   },
   {
    "duration": 11,
    "start_time": "2022-08-11T03:51:42.499Z"
   },
   {
    "duration": 17,
    "start_time": "2022-08-11T03:52:20.389Z"
   },
   {
    "duration": 4,
    "start_time": "2022-08-11T03:52:25.299Z"
   },
   {
    "duration": 11,
    "start_time": "2022-08-11T03:52:31.195Z"
   },
   {
    "duration": 4,
    "start_time": "2022-08-11T03:52:58.363Z"
   },
   {
    "duration": 9,
    "start_time": "2022-08-11T03:53:04.165Z"
   },
   {
    "duration": 15,
    "start_time": "2022-08-11T03:53:42.459Z"
   },
   {
    "duration": 3,
    "start_time": "2022-08-11T03:54:37.858Z"
   },
   {
    "duration": 4,
    "start_time": "2022-08-11T03:55:54.357Z"
   },
   {
    "duration": 563,
    "start_time": "2022-08-11T03:56:16.986Z"
   },
   {
    "duration": 6,
    "start_time": "2022-08-11T04:05:45.909Z"
   },
   {
    "duration": 1016,
    "start_time": "2022-08-11T04:06:01.433Z"
   },
   {
    "duration": 31,
    "start_time": "2022-08-11T04:06:02.933Z"
   },
   {
    "duration": 12,
    "start_time": "2022-08-11T04:06:16.233Z"
   },
   {
    "duration": 14,
    "start_time": "2022-08-11T04:06:19.443Z"
   },
   {
    "duration": 21,
    "start_time": "2022-08-11T04:07:25.984Z"
   },
   {
    "duration": 7,
    "start_time": "2022-08-11T04:07:29.363Z"
   },
   {
    "duration": 5,
    "start_time": "2022-08-11T04:07:29.803Z"
   },
   {
    "duration": 5,
    "start_time": "2022-08-11T04:08:12.163Z"
   },
   {
    "duration": 375,
    "start_time": "2022-08-11T04:11:03.633Z"
   },
   {
    "duration": 212,
    "start_time": "2022-08-11T04:11:15.898Z"
   },
   {
    "duration": 115,
    "start_time": "2022-08-11T04:11:18.433Z"
   },
   {
    "duration": 104,
    "start_time": "2022-08-11T04:11:24.593Z"
   },
   {
    "duration": 121,
    "start_time": "2022-08-11T04:12:44.538Z"
   },
   {
    "duration": 194,
    "start_time": "2022-08-11T04:12:54.078Z"
   },
   {
    "duration": 215,
    "start_time": "2022-08-11T04:12:59.758Z"
   },
   {
    "duration": 270,
    "start_time": "2022-08-11T04:13:05.478Z"
   },
   {
    "duration": 52,
    "start_time": "2022-08-11T04:13:37.073Z"
   },
   {
    "duration": 419,
    "start_time": "2022-08-11T04:14:52.883Z"
   },
   {
    "duration": 396,
    "start_time": "2022-08-11T04:16:06.834Z"
   },
   {
    "duration": 376,
    "start_time": "2022-08-11T04:16:09.449Z"
   },
   {
    "duration": 346,
    "start_time": "2022-08-11T04:16:17.928Z"
   },
   {
    "duration": 247,
    "start_time": "2022-08-11T04:16:52.529Z"
   },
   {
    "duration": 4,
    "start_time": "2022-08-11T04:18:03.849Z"
   },
   {
    "duration": 280,
    "start_time": "2022-08-11T04:18:25.394Z"
   },
   {
    "duration": 298,
    "start_time": "2022-08-11T04:18:30.664Z"
   },
   {
    "duration": 540,
    "start_time": "2022-08-11T04:18:49.154Z"
   },
   {
    "duration": 283,
    "start_time": "2022-08-11T04:20:35.419Z"
   },
   {
    "duration": 295,
    "start_time": "2022-08-11T04:20:48.705Z"
   },
   {
    "duration": 299,
    "start_time": "2022-08-11T04:21:04.950Z"
   },
   {
    "duration": 288,
    "start_time": "2022-08-11T04:21:11.900Z"
   },
   {
    "duration": 5,
    "start_time": "2022-08-11T04:22:01.065Z"
   },
   {
    "duration": 7,
    "start_time": "2022-08-11T04:22:07.920Z"
   },
   {
    "duration": 360,
    "start_time": "2022-08-11T04:24:04.890Z"
   },
   {
    "duration": 1299,
    "start_time": "2022-08-11T04:24:38.581Z"
   },
   {
    "duration": 29,
    "start_time": "2022-08-11T04:24:39.882Z"
   },
   {
    "duration": 10,
    "start_time": "2022-08-11T04:24:39.913Z"
   },
   {
    "duration": 12,
    "start_time": "2022-08-11T04:24:41.836Z"
   },
   {
    "duration": 23,
    "start_time": "2022-08-11T04:24:42.031Z"
   },
   {
    "duration": 6,
    "start_time": "2022-08-11T04:24:42.567Z"
   },
   {
    "duration": 7,
    "start_time": "2022-08-11T04:24:44.751Z"
   },
   {
    "duration": 5,
    "start_time": "2022-08-11T04:25:56.776Z"
   },
   {
    "duration": 373,
    "start_time": "2022-08-11T04:26:01.986Z"
   },
   {
    "duration": 4,
    "start_time": "2022-08-11T04:26:20.616Z"
   },
   {
    "duration": 3,
    "start_time": "2022-08-11T04:26:23.071Z"
   },
   {
    "duration": 4,
    "start_time": "2022-08-11T04:29:16.866Z"
   },
   {
    "duration": 3,
    "start_time": "2022-08-11T04:29:17.782Z"
   },
   {
    "duration": 14,
    "start_time": "2022-08-11T04:29:21.126Z"
   },
   {
    "duration": 6,
    "start_time": "2022-08-11T04:33:51.707Z"
   },
   {
    "duration": 6,
    "start_time": "2022-08-11T04:34:12.906Z"
   },
   {
    "duration": 5,
    "start_time": "2022-08-11T04:34:27.127Z"
   },
   {
    "duration": 6,
    "start_time": "2022-08-11T04:34:36.352Z"
   },
   {
    "duration": 1272,
    "start_time": "2022-08-11T05:20:25.228Z"
   },
   {
    "duration": 30,
    "start_time": "2022-08-11T05:20:26.502Z"
   },
   {
    "duration": 11,
    "start_time": "2022-08-11T05:20:26.533Z"
   },
   {
    "duration": 18,
    "start_time": "2022-08-11T05:20:26.545Z"
   },
   {
    "duration": 21,
    "start_time": "2022-08-11T05:20:26.565Z"
   },
   {
    "duration": 6,
    "start_time": "2022-08-11T05:20:26.588Z"
   },
   {
    "duration": 12,
    "start_time": "2022-08-11T05:20:26.595Z"
   },
   {
    "duration": 8,
    "start_time": "2022-08-11T05:20:26.608Z"
   },
   {
    "duration": 355,
    "start_time": "2022-08-11T05:20:26.618Z"
   },
   {
    "duration": 3,
    "start_time": "2022-08-11T05:20:26.975Z"
   },
   {
    "duration": 9,
    "start_time": "2022-08-11T05:20:26.980Z"
   },
   {
    "duration": 12,
    "start_time": "2022-08-11T05:20:26.991Z"
   },
   {
    "duration": 6,
    "start_time": "2022-08-11T05:20:27.004Z"
   },
   {
    "duration": 18,
    "start_time": "2022-08-11T05:20:27.012Z"
   },
   {
    "duration": 7,
    "start_time": "2022-08-11T05:20:27.032Z"
   },
   {
    "duration": 104,
    "start_time": "2022-08-11T05:20:27.099Z"
   },
   {
    "duration": 1268,
    "start_time": "2022-08-11T05:21:32.435Z"
   },
   {
    "duration": 30,
    "start_time": "2022-08-11T05:21:33.705Z"
   },
   {
    "duration": 10,
    "start_time": "2022-08-11T05:21:33.737Z"
   },
   {
    "duration": 11,
    "start_time": "2022-08-11T05:21:33.748Z"
   },
   {
    "duration": 23,
    "start_time": "2022-08-11T05:21:33.761Z"
   },
   {
    "duration": 5,
    "start_time": "2022-08-11T05:21:33.786Z"
   },
   {
    "duration": 12,
    "start_time": "2022-08-11T05:21:33.792Z"
   },
   {
    "duration": 9,
    "start_time": "2022-08-11T05:21:33.806Z"
   },
   {
    "duration": 373,
    "start_time": "2022-08-11T05:21:33.817Z"
   },
   {
    "duration": 5,
    "start_time": "2022-08-11T05:21:34.191Z"
   },
   {
    "duration": 4,
    "start_time": "2022-08-11T05:21:34.200Z"
   },
   {
    "duration": 9,
    "start_time": "2022-08-11T05:21:34.205Z"
   },
   {
    "duration": 10,
    "start_time": "2022-08-11T05:21:34.215Z"
   },
   {
    "duration": 19,
    "start_time": "2022-08-11T05:21:34.227Z"
   },
   {
    "duration": 53,
    "start_time": "2022-08-11T05:21:34.247Z"
   },
   {
    "duration": 7,
    "start_time": "2022-08-11T05:21:34.304Z"
   },
   {
    "duration": 1783,
    "start_time": "2022-08-11T11:57:43.203Z"
   },
   {
    "duration": 84,
    "start_time": "2022-08-11T11:57:44.988Z"
   },
   {
    "duration": 13,
    "start_time": "2022-08-11T11:57:45.074Z"
   },
   {
    "duration": 30,
    "start_time": "2022-08-11T11:57:45.089Z"
   },
   {
    "duration": 44,
    "start_time": "2022-08-11T11:57:45.121Z"
   },
   {
    "duration": 19,
    "start_time": "2022-08-11T11:57:45.167Z"
   },
   {
    "duration": 17,
    "start_time": "2022-08-11T11:57:45.188Z"
   },
   {
    "duration": 8,
    "start_time": "2022-08-11T11:57:45.207Z"
   },
   {
    "duration": 470,
    "start_time": "2022-08-11T11:57:45.216Z"
   },
   {
    "duration": 10,
    "start_time": "2022-08-11T11:57:45.688Z"
   },
   {
    "duration": 4,
    "start_time": "2022-08-11T11:57:45.699Z"
   },
   {
    "duration": 5,
    "start_time": "2022-08-11T11:57:45.705Z"
   },
   {
    "duration": 6,
    "start_time": "2022-08-11T11:57:45.712Z"
   },
   {
    "duration": 14,
    "start_time": "2022-08-11T11:57:45.720Z"
   },
   {
    "duration": 63,
    "start_time": "2022-08-11T11:57:45.736Z"
   },
   {
    "duration": 103,
    "start_time": "2022-08-11T11:57:45.801Z"
   },
   {
    "duration": 1443,
    "start_time": "2022-08-12T02:47:34.423Z"
   },
   {
    "duration": 89,
    "start_time": "2022-08-12T02:47:35.868Z"
   },
   {
    "duration": 11,
    "start_time": "2022-08-12T02:47:35.959Z"
   },
   {
    "duration": 11,
    "start_time": "2022-08-12T02:47:36.848Z"
   },
   {
    "duration": 20,
    "start_time": "2022-08-12T02:47:37.063Z"
   },
   {
    "duration": 6,
    "start_time": "2022-08-12T02:47:37.382Z"
   },
   {
    "duration": 4,
    "start_time": "2022-08-12T02:47:37.953Z"
   },
   {
    "duration": 7,
    "start_time": "2022-08-12T02:47:38.148Z"
   },
   {
    "duration": 418,
    "start_time": "2022-08-12T02:47:38.367Z"
   },
   {
    "duration": 4,
    "start_time": "2022-08-12T02:49:12.448Z"
   },
   {
    "duration": 101,
    "start_time": "2022-08-12T02:50:02.957Z"
   },
   {
    "duration": 4,
    "start_time": "2022-08-12T02:51:05.243Z"
   },
   {
    "duration": 5,
    "start_time": "2022-08-12T02:51:18.673Z"
   },
   {
    "duration": 3,
    "start_time": "2022-08-12T02:51:36.558Z"
   },
   {
    "duration": 1512,
    "start_time": "2022-08-15T10:43:07.769Z"
   },
   {
    "duration": 105,
    "start_time": "2022-08-15T10:43:11.233Z"
   },
   {
    "duration": 12,
    "start_time": "2022-08-15T10:43:11.340Z"
   },
   {
    "duration": 11,
    "start_time": "2022-08-15T10:43:11.354Z"
   },
   {
    "duration": 21,
    "start_time": "2022-08-15T10:43:11.366Z"
   },
   {
    "duration": 5,
    "start_time": "2022-08-15T10:43:11.389Z"
   },
   {
    "duration": 5,
    "start_time": "2022-08-15T10:43:13.358Z"
   },
   {
    "duration": 8,
    "start_time": "2022-08-15T10:43:13.536Z"
   },
   {
    "duration": 447,
    "start_time": "2022-08-15T10:43:14.337Z"
   },
   {
    "duration": 4,
    "start_time": "2022-08-15T10:43:24.726Z"
   },
   {
    "duration": 6,
    "start_time": "2022-08-15T10:43:47.773Z"
   },
   {
    "duration": 117,
    "start_time": "2022-08-15T10:44:25.538Z"
   },
   {
    "duration": 8,
    "start_time": "2022-08-15T10:44:40.032Z"
   },
   {
    "duration": 8,
    "start_time": "2022-08-15T10:44:43.583Z"
   },
   {
    "duration": 9,
    "start_time": "2022-08-15T10:44:56.540Z"
   },
   {
    "duration": 3,
    "start_time": "2022-08-15T10:45:16.132Z"
   },
   {
    "duration": 3,
    "start_time": "2022-08-15T10:45:21.454Z"
   },
   {
    "duration": 17,
    "start_time": "2022-08-15T10:45:35.828Z"
   },
   {
    "duration": 4,
    "start_time": "2022-08-15T10:46:08.197Z"
   },
   {
    "duration": 4,
    "start_time": "2022-08-15T10:47:58.549Z"
   },
   {
    "duration": 5,
    "start_time": "2022-08-15T10:48:04.280Z"
   },
   {
    "duration": 4,
    "start_time": "2022-08-15T10:48:12.324Z"
   },
   {
    "duration": 3,
    "start_time": "2022-08-15T10:48:18.354Z"
   },
   {
    "duration": 13,
    "start_time": "2022-08-15T10:48:25.861Z"
   },
   {
    "duration": 13,
    "start_time": "2022-08-15T10:48:54.253Z"
   },
   {
    "duration": 8,
    "start_time": "2022-08-15T10:49:15.951Z"
   },
   {
    "duration": 10,
    "start_time": "2022-08-15T10:50:49.829Z"
   },
   {
    "duration": 14,
    "start_time": "2022-08-15T10:57:52.614Z"
   },
   {
    "duration": 93,
    "start_time": "2022-08-15T10:59:20.434Z"
   },
   {
    "duration": 13,
    "start_time": "2022-08-15T10:59:30.673Z"
   },
   {
    "duration": 16,
    "start_time": "2022-08-15T10:59:34.781Z"
   },
   {
    "duration": 11,
    "start_time": "2022-08-15T10:59:52.924Z"
   },
   {
    "duration": 11,
    "start_time": "2022-08-15T11:00:05.373Z"
   },
   {
    "duration": 11,
    "start_time": "2022-08-15T11:00:39.124Z"
   },
   {
    "duration": 77,
    "start_time": "2022-08-15T17:30:07.954Z"
   },
   {
    "duration": 1531,
    "start_time": "2022-08-15T17:35:54.673Z"
   },
   {
    "duration": 49,
    "start_time": "2022-08-15T17:35:56.206Z"
   },
   {
    "duration": 12,
    "start_time": "2022-08-15T17:35:56.256Z"
   },
   {
    "duration": 18,
    "start_time": "2022-08-15T17:35:56.270Z"
   },
   {
    "duration": 19,
    "start_time": "2022-08-15T17:35:56.289Z"
   },
   {
    "duration": 38,
    "start_time": "2022-08-15T17:35:56.317Z"
   },
   {
    "duration": 6,
    "start_time": "2022-08-15T17:35:56.662Z"
   },
   {
    "duration": 8,
    "start_time": "2022-08-15T17:35:57.030Z"
   },
   {
    "duration": 407,
    "start_time": "2022-08-15T17:35:57.202Z"
   },
   {
    "duration": 4,
    "start_time": "2022-08-15T17:37:11.762Z"
   },
   {
    "duration": 6,
    "start_time": "2022-08-15T17:37:56.776Z"
   },
   {
    "duration": 4,
    "start_time": "2022-08-15T17:38:03.332Z"
   },
   {
    "duration": 12,
    "start_time": "2022-08-15T17:38:06.241Z"
   },
   {
    "duration": 19,
    "start_time": "2022-08-15T17:38:09.538Z"
   },
   {
    "duration": 14,
    "start_time": "2022-08-15T17:38:42.166Z"
   },
   {
    "duration": 44,
    "start_time": "2022-08-15T17:39:06.490Z"
   },
   {
    "duration": 15,
    "start_time": "2022-08-15T17:39:16.705Z"
   },
   {
    "duration": 97,
    "start_time": "2022-08-15T17:46:24.943Z"
   },
   {
    "duration": 1499,
    "start_time": "2022-08-15T17:51:56.727Z"
   },
   {
    "duration": 35,
    "start_time": "2022-08-15T17:51:58.227Z"
   },
   {
    "duration": 11,
    "start_time": "2022-08-15T17:51:58.263Z"
   },
   {
    "duration": 11,
    "start_time": "2022-08-15T17:51:58.276Z"
   },
   {
    "duration": 19,
    "start_time": "2022-08-15T17:51:58.288Z"
   },
   {
    "duration": 39,
    "start_time": "2022-08-15T17:51:58.309Z"
   },
   {
    "duration": 4,
    "start_time": "2022-08-15T17:51:58.406Z"
   },
   {
    "duration": 8,
    "start_time": "2022-08-15T17:51:58.581Z"
   },
   {
    "duration": 456,
    "start_time": "2022-08-15T17:51:58.770Z"
   },
   {
    "duration": 81,
    "start_time": "2022-08-15T18:13:52.682Z"
   },
   {
    "duration": 1697,
    "start_time": "2022-08-15T18:16:21.547Z"
   },
   {
    "duration": 29,
    "start_time": "2022-08-15T18:16:23.249Z"
   },
   {
    "duration": 11,
    "start_time": "2022-08-15T18:16:23.280Z"
   },
   {
    "duration": 12,
    "start_time": "2022-08-15T18:16:23.293Z"
   },
   {
    "duration": 48,
    "start_time": "2022-08-15T18:16:23.307Z"
   },
   {
    "duration": 5,
    "start_time": "2022-08-15T18:16:23.357Z"
   },
   {
    "duration": 3,
    "start_time": "2022-08-15T18:16:23.364Z"
   },
   {
    "duration": 7,
    "start_time": "2022-08-15T18:16:23.369Z"
   },
   {
    "duration": 390,
    "start_time": "2022-08-15T18:16:23.443Z"
   },
   {
    "duration": 11,
    "start_time": "2022-08-15T18:16:27.839Z"
   },
   {
    "duration": 3,
    "start_time": "2022-08-15T18:16:28.194Z"
   },
   {
    "duration": 10,
    "start_time": "2022-08-15T18:16:29.044Z"
   },
   {
    "duration": 3,
    "start_time": "2022-08-15T18:16:29.278Z"
   },
   {
    "duration": 16,
    "start_time": "2022-08-15T18:16:30.352Z"
   },
   {
    "duration": 32,
    "start_time": "2022-08-15T18:16:31.006Z"
   },
   {
    "duration": 20,
    "start_time": "2022-08-15T18:16:31.538Z"
   },
   {
    "duration": 9,
    "start_time": "2022-08-15T18:16:34.352Z"
   },
   {
    "duration": 11,
    "start_time": "2022-08-15T18:18:44.642Z"
   },
   {
    "duration": 256,
    "start_time": "2022-08-15T18:19:20.703Z"
   },
   {
    "duration": 2190,
    "start_time": "2022-08-15T18:19:33.951Z"
   },
   {
    "duration": 1402,
    "start_time": "2022-08-15T18:26:26.705Z"
   },
   {
    "duration": 43,
    "start_time": "2022-08-15T18:26:28.109Z"
   },
   {
    "duration": 11,
    "start_time": "2022-08-15T18:26:28.154Z"
   },
   {
    "duration": 12,
    "start_time": "2022-08-15T18:26:28.167Z"
   },
   {
    "duration": 21,
    "start_time": "2022-08-15T18:26:28.181Z"
   },
   {
    "duration": 5,
    "start_time": "2022-08-15T18:26:28.203Z"
   },
   {
    "duration": 31,
    "start_time": "2022-08-15T18:26:28.209Z"
   },
   {
    "duration": 7,
    "start_time": "2022-08-15T18:26:28.241Z"
   },
   {
    "duration": 351,
    "start_time": "2022-08-15T18:26:28.250Z"
   },
   {
    "duration": 5,
    "start_time": "2022-08-15T18:26:28.604Z"
   },
   {
    "duration": 33,
    "start_time": "2022-08-15T18:26:28.610Z"
   },
   {
    "duration": 6,
    "start_time": "2022-08-15T18:26:28.644Z"
   },
   {
    "duration": 9,
    "start_time": "2022-08-15T18:26:28.651Z"
   },
   {
    "duration": 60,
    "start_time": "2022-08-15T18:26:28.661Z"
   },
   {
    "duration": 14,
    "start_time": "2022-08-15T18:26:28.723Z"
   },
   {
    "duration": 104,
    "start_time": "2022-08-15T18:26:28.739Z"
   },
   {
    "duration": 189,
    "start_time": "2022-08-15T18:26:28.848Z"
   },
   {
    "duration": 202,
    "start_time": "2022-08-15T18:26:29.040Z"
   },
   {
    "duration": 226,
    "start_time": "2022-08-15T18:26:29.249Z"
   },
   {
    "duration": 1977,
    "start_time": "2022-08-15T18:26:29.477Z"
   },
   {
    "duration": 3,
    "start_time": "2022-08-15T18:32:37.758Z"
   },
   {
    "duration": 9,
    "start_time": "2022-08-15T18:33:08.588Z"
   },
   {
    "duration": 36,
    "start_time": "2022-08-15T18:33:23.237Z"
   },
   {
    "duration": 1441,
    "start_time": "2022-08-15T18:57:39.703Z"
   },
   {
    "duration": 30,
    "start_time": "2022-08-15T18:57:41.148Z"
   },
   {
    "duration": 11,
    "start_time": "2022-08-15T18:57:41.180Z"
   },
   {
    "duration": 13,
    "start_time": "2022-08-15T18:57:41.192Z"
   },
   {
    "duration": 46,
    "start_time": "2022-08-15T18:57:41.208Z"
   },
   {
    "duration": 6,
    "start_time": "2022-08-15T18:57:41.256Z"
   },
   {
    "duration": 4,
    "start_time": "2022-08-15T18:57:41.264Z"
   },
   {
    "duration": 9,
    "start_time": "2022-08-15T18:57:41.270Z"
   },
   {
    "duration": 424,
    "start_time": "2022-08-15T18:57:41.280Z"
   },
   {
    "duration": 4,
    "start_time": "2022-08-15T18:57:41.705Z"
   },
   {
    "duration": 42,
    "start_time": "2022-08-15T18:57:41.711Z"
   },
   {
    "duration": 7,
    "start_time": "2022-08-15T18:57:41.755Z"
   },
   {
    "duration": 12,
    "start_time": "2022-08-15T18:57:41.763Z"
   },
   {
    "duration": 47,
    "start_time": "2022-08-15T18:57:41.778Z"
   },
   {
    "duration": 95,
    "start_time": "2022-08-15T18:57:41.826Z"
   },
   {
    "duration": 117,
    "start_time": "2022-08-15T18:57:41.923Z"
   },
   {
    "duration": 110,
    "start_time": "2022-08-15T18:57:42.045Z"
   },
   {
    "duration": 1821,
    "start_time": "2022-08-16T11:01:08.274Z"
   },
   {
    "duration": 117,
    "start_time": "2022-08-16T11:01:10.109Z"
   },
   {
    "duration": 18,
    "start_time": "2022-08-16T11:01:10.231Z"
   },
   {
    "duration": 26,
    "start_time": "2022-08-16T11:01:10.251Z"
   },
   {
    "duration": 40,
    "start_time": "2022-08-16T11:01:10.280Z"
   },
   {
    "duration": 8,
    "start_time": "2022-08-16T11:01:10.322Z"
   },
   {
    "duration": 35,
    "start_time": "2022-08-16T11:01:10.335Z"
   },
   {
    "duration": 16,
    "start_time": "2022-08-16T11:01:10.372Z"
   },
   {
    "duration": 453,
    "start_time": "2022-08-16T11:01:10.391Z"
   },
   {
    "duration": 5,
    "start_time": "2022-08-16T11:01:10.846Z"
   },
   {
    "duration": 9,
    "start_time": "2022-08-16T11:01:10.852Z"
   },
   {
    "duration": 7,
    "start_time": "2022-08-16T11:01:10.863Z"
   },
   {
    "duration": 9,
    "start_time": "2022-08-16T11:01:10.872Z"
   },
   {
    "duration": 36,
    "start_time": "2022-08-16T11:01:10.883Z"
   },
   {
    "duration": 105,
    "start_time": "2022-08-16T11:01:10.921Z"
   },
   {
    "duration": 32,
    "start_time": "2022-08-16T11:01:11.028Z"
   },
   {
    "duration": 159,
    "start_time": "2022-08-16T11:01:11.062Z"
   },
   {
    "duration": 4,
    "start_time": "2022-08-16T11:08:59.167Z"
   },
   {
    "duration": 1800,
    "start_time": "2022-08-17T22:52:56.618Z"
   },
   {
    "duration": 89,
    "start_time": "2022-08-17T22:52:58.422Z"
   },
   {
    "duration": 17,
    "start_time": "2022-08-17T22:52:58.513Z"
   },
   {
    "duration": 19,
    "start_time": "2022-08-17T22:52:58.533Z"
   },
   {
    "duration": 39,
    "start_time": "2022-08-17T22:52:58.555Z"
   },
   {
    "duration": 7,
    "start_time": "2022-08-17T22:52:58.597Z"
   },
   {
    "duration": 9,
    "start_time": "2022-08-17T22:52:58.607Z"
   },
   {
    "duration": 12,
    "start_time": "2022-08-17T22:52:58.618Z"
   },
   {
    "duration": 516,
    "start_time": "2022-08-17T22:52:58.633Z"
   },
   {
    "duration": 5,
    "start_time": "2022-08-17T22:52:59.151Z"
   },
   {
    "duration": 11,
    "start_time": "2022-08-17T22:52:59.158Z"
   },
   {
    "duration": 9,
    "start_time": "2022-08-17T22:52:59.171Z"
   },
   {
    "duration": 5,
    "start_time": "2022-08-17T22:52:59.192Z"
   },
   {
    "duration": 103,
    "start_time": "2022-08-17T22:52:59.200Z"
   },
   {
    "duration": 89,
    "start_time": "2022-08-17T22:52:59.306Z"
   },
   {
    "duration": 97,
    "start_time": "2022-08-17T22:52:59.398Z"
   },
   {
    "duration": 9,
    "start_time": "2022-08-17T22:52:59.500Z"
   },
   {
    "duration": 1541,
    "start_time": "2022-08-17T22:53:18.190Z"
   },
   {
    "duration": 30,
    "start_time": "2022-08-17T22:53:19.733Z"
   },
   {
    "duration": 14,
    "start_time": "2022-08-17T22:53:19.765Z"
   },
   {
    "duration": 20,
    "start_time": "2022-08-17T22:53:19.781Z"
   },
   {
    "duration": 40,
    "start_time": "2022-08-17T22:53:19.804Z"
   },
   {
    "duration": 8,
    "start_time": "2022-08-17T22:53:19.847Z"
   },
   {
    "duration": 12,
    "start_time": "2022-08-17T22:53:19.857Z"
   },
   {
    "duration": 28,
    "start_time": "2022-08-17T22:53:19.871Z"
   },
   {
    "duration": 450,
    "start_time": "2022-08-17T22:53:19.901Z"
   },
   {
    "duration": 6,
    "start_time": "2022-08-17T22:53:20.353Z"
   },
   {
    "duration": 12,
    "start_time": "2022-08-17T22:53:20.361Z"
   },
   {
    "duration": 8,
    "start_time": "2022-08-17T22:53:20.387Z"
   },
   {
    "duration": 35,
    "start_time": "2022-08-17T22:53:20.397Z"
   },
   {
    "duration": 159,
    "start_time": "2022-08-17T22:53:20.436Z"
   },
   {
    "duration": 15,
    "start_time": "2022-08-17T22:53:20.598Z"
   },
   {
    "duration": 12,
    "start_time": "2022-08-17T22:53:20.616Z"
   },
   {
    "duration": 119,
    "start_time": "2022-08-17T22:53:20.693Z"
   }
  ],
  "kernelspec": {
   "display_name": "Python 3 (ipykernel)",
   "language": "python",
   "name": "python3"
  },
  "language_info": {
   "codemirror_mode": {
    "name": "ipython",
    "version": 3
   },
   "file_extension": ".py",
   "mimetype": "text/x-python",
   "name": "python",
   "nbconvert_exporter": "python",
   "pygments_lexer": "ipython3",
   "version": "3.9.5"
  },
  "toc": {
   "base_numbering": 1,
   "nav_menu": {},
   "number_sections": true,
   "sideBar": true,
   "skip_h1_title": true,
   "title_cell": "Содержание",
   "title_sidebar": "Contents",
   "toc_cell": true,
   "toc_position": {
    "height": "calc(100% - 180px)",
    "left": "10px",
    "top": "150px",
    "width": "251.594px"
   },
   "toc_section_display": true,
   "toc_window_display": true
  }
 },
 "nbformat": 4,
 "nbformat_minor": 2
}
